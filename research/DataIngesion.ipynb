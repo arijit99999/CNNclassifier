{
 "cells": [
  {
   "cell_type": "code",
   "execution_count": 1,
   "id": "297c82e7",
   "metadata": {},
   "outputs": [],
   "source": [
    "import os"
   ]
  },
  {
   "cell_type": "code",
   "execution_count": 2,
   "id": "8b91f1d4",
   "metadata": {},
   "outputs": [
    {
     "data": {
      "text/plain": [
       "'c:\\\\Users\\\\deyar\\\\OneDrive\\\\Desktop\\\\cnnClassifier\\\\research'"
      ]
     },
     "execution_count": 2,
     "metadata": {},
     "output_type": "execute_result"
    }
   ],
   "source": [
    "%pwd"
   ]
  },
  {
   "cell_type": "code",
   "execution_count": 3,
   "id": "1eab5e44",
   "metadata": {},
   "outputs": [],
   "source": [
    "os.chdir('../')"
   ]
  },
  {
   "cell_type": "code",
   "execution_count": 4,
   "id": "34bff4bb",
   "metadata": {},
   "outputs": [],
   "source": [
    "from src.cnnClassifier.logger import logging\n",
    "from src.cnnClassifier.exception import customexception\n",
    "import sys"
   ]
  },
  {
   "cell_type": "code",
   "execution_count": 6,
   "id": "b237d3af",
   "metadata": {},
   "outputs": [],
   "source": [
    "from pathlib import Path\n",
    "from dataclasses import dataclass\n",
    "\n",
    "@dataclass\n",
    "class DataIngesion:\n",
    "    root_dir: Path  #under artifacts i created data ingestion folder\n",
    "    source_URL: str  #donload url\n",
    "    local_data_file: Path  #output=data.zip\n",
    "    unzip_dir: Path #unzip in data ingestion folder"
   ]
  },
  {
   "cell_type": "code",
   "execution_count": 7,
   "id": "59c7554e",
   "metadata": {},
   "outputs": [],
   "source": [
    "from src.cnnClassifier.constants.cont import CONFIG_FILE_PATH,PARAMS_FILE_PATH"
   ]
  },
  {
   "cell_type": "code",
   "execution_count": 9,
   "id": "3ed7f977",
   "metadata": {},
   "outputs": [],
   "source": [
    "from box import ConfigBox\n",
    "import yaml"
   ]
  },
  {
   "cell_type": "code",
   "execution_count": null,
   "id": "2c432934",
   "metadata": {},
   "outputs": [],
   "source": [
    "class ConfigManager:\n",
    "    def __init__(self,configpath=CONFIG_FILE_PATH):\n",
    "        try:\n",
    "         self.config=ConfigBox(yaml.safe_load(open(configpath)))\n",
    "         logging.info(f'file has been  lodded')\n",
    "         #self.params=read_yaml(paramspath)\n",
    "         os.makedirs(self.config.artifacts_root,exist_ok=True)\n",
    "         logging.info(f\"{self.config.artifacts_root} has been created\")\n",
    "         os.makedirs(self.config.data_ingestion.root_dir,exist_ok=True)\n",
    "         logging.info(f\"{self.config.data_ingestion.root_dir} has been created\")\n",
    "        except Exception as e:\n",
    "         logging.info(\"yaml file is empty\")\n",
    "         raise customexception(e,sys)\n",
    "    def get_data(self):\n",
    "        data_ingesion=DataIngesion(\n",
    "            root_dir=self.config.data_ingestion.root_dir,\n",
    "            source_URL=self.config.data_ingestion.source_URL,\n",
    "            local_data_file=self.config.data_ingestion.local_data_file,\n",
    "            unzip_dir=self.config.data_ingestion.unzip_dir\n",
    "        )\n",
    "        return data_ingesion"
   ]
  },
  {
   "cell_type": "code",
   "execution_count": null,
   "id": "5c97372d",
   "metadata": {},
   "outputs": [],
   "source": [
    "ConfigManager=ConfigManager()"
   ]
  },
  {
   "cell_type": "code",
   "execution_count": 16,
   "id": "58c298ea",
   "metadata": {},
   "outputs": [
    {
     "data": {
      "text/plain": [
       "DataIngesion(root_dir='artifacts/data_ingestion', source_URL='https://drive.google.com/uc?id=1CscVSu8TXjX8ePy4YeO6nX8oeDWGoQgG', local_data_file='artifacts/data_ingestion/data.zip', unzip_dir='artifacts/data_ingestion')"
      ]
     },
     "execution_count": 16,
     "metadata": {},
     "output_type": "execute_result"
    }
   ],
   "source": [
    "x=ConfigManager.get_data()\n",
    "x"
   ]
  },
  {
   "cell_type": "code",
   "execution_count": 17,
   "id": "8f86a15f",
   "metadata": {},
   "outputs": [],
   "source": [
    "import gdown\n",
    "import zipfile"
   ]
  },
  {
   "cell_type": "code",
   "execution_count": 18,
   "id": "25c80d88",
   "metadata": {},
   "outputs": [],
   "source": [
    "class datadownload():\n",
    "    def download(self,z:DataIngesion):\n",
    "        self.z=z\n",
    "        url=z.source_URL\n",
    "        os.makedirs(os.path.dirname(z.local_data_file),exist_ok=True)\n",
    "        output_path = z.local_data_file\n",
    "        gdown.download(url, output_path, quiet=False)\n",
    "        logging.info(f'file has been  downloaded')\n",
    "        data=zipfile.ZipFile(z.local_data_file,'r')\n",
    "        data.extractall(z.unzip_dir)\n",
    "        data.close()\n",
    "        logging.info(f'file has been  unzip')\n",
    "    def unzip(self,z:DataIngesion):\n",
    "        self.z=z\n",
    "        loacation=os.path.join('artifacts\\data_ingestion','archive.zip')\n",
    "        data=zipfile.ZipFile(loacation,'r')\n",
    "        data.extractall(z.unzip_dir)\n",
    "        data.close()\n",
    "        logging.info(f'file has been  unzip')"
   ]
  },
  {
   "cell_type": "code",
   "execution_count": 19,
   "id": "8b5bbed3",
   "metadata": {},
   "outputs": [],
   "source": [
    "b=datadownload()"
   ]
  },
  {
   "cell_type": "code",
   "execution_count": 20,
   "id": "68fb9551",
   "metadata": {},
   "outputs": [
    {
     "name": "stderr",
     "output_type": "stream",
     "text": [
      "Downloading...\n",
      "From (original): https://drive.google.com/uc?id=1CscVSu8TXjX8ePy4YeO6nX8oeDWGoQgG\n",
      "From (redirected): https://drive.google.com/uc?id=1CscVSu8TXjX8ePy4YeO6nX8oeDWGoQgG&confirm=t&uuid=db14dcce-7f8b-4959-9d60-2efd6d93c0ce\n",
      "To: c:\\Users\\deyar\\OneDrive\\Desktop\\cnnClassifier\\artifacts\\data_ingestion\\data.zip\n",
      "100%|██████████| 124M/124M [00:32<00:00, 3.82MB/s] \n"
     ]
    }
   ],
   "source": [
    "m=b.download(x)"
   ]
  },
  {
   "cell_type": "code",
   "execution_count": 21,
   "id": "8346a7ac",
   "metadata": {},
   "outputs": [],
   "source": [
    "b.unzip(x)"
   ]
  },
  {
   "cell_type": "code",
   "execution_count": null,
   "id": "39d3b7e0",
   "metadata": {},
   "outputs": [],
   "source": []
  }
 ],
 "metadata": {
  "kernelspec": {
   "display_name": "Python 3",
   "language": "python",
   "name": "python3"
  },
  "language_info": {
   "codemirror_mode": {
    "name": "ipython",
    "version": 3
   },
   "file_extension": ".py",
   "mimetype": "text/x-python",
   "name": "python",
   "nbconvert_exporter": "python",
   "pygments_lexer": "ipython3",
   "version": "3.11.11"
  }
 },
 "nbformat": 4,
 "nbformat_minor": 5
}
