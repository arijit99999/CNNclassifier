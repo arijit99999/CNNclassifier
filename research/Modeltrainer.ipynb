{
 "cells": [
  {
   "cell_type": "code",
   "execution_count": 1,
   "id": "7b10eaf9",
   "metadata": {},
   "outputs": [],
   "source": [
    "import warnings\n",
    "warnings.filterwarnings(\"ignore\", category=UserWarning)"
   ]
  },
  {
   "cell_type": "code",
   "execution_count": 2,
   "id": "2b347d61",
   "metadata": {},
   "outputs": [],
   "source": [
    "import os"
   ]
  },
  {
   "cell_type": "code",
   "execution_count": 3,
   "id": "755a8e2a",
   "metadata": {},
   "outputs": [
    {
     "data": {
      "text/plain": [
       "'c:\\\\Users\\\\deyar\\\\OneDrive\\\\Desktop\\\\cnnClassifier\\\\research'"
      ]
     },
     "execution_count": 3,
     "metadata": {},
     "output_type": "execute_result"
    }
   ],
   "source": [
    "%pwd"
   ]
  },
  {
   "cell_type": "code",
   "execution_count": 4,
   "id": "82f5f425",
   "metadata": {},
   "outputs": [],
   "source": [
    "os.chdir('../')"
   ]
  },
  {
   "cell_type": "code",
   "execution_count": 5,
   "id": "2157f232",
   "metadata": {},
   "outputs": [
    {
     "data": {
      "text/plain": [
       "'c:\\\\Users\\\\deyar\\\\OneDrive\\\\Desktop\\\\cnnClassifier'"
      ]
     },
     "execution_count": 5,
     "metadata": {},
     "output_type": "execute_result"
    }
   ],
   "source": [
    "%pwd"
   ]
  },
  {
   "cell_type": "code",
   "execution_count": 6,
   "id": "d693c413",
   "metadata": {},
   "outputs": [],
   "source": [
    "from src.cnnClassifier.logger import logging\n",
    "from src.cnnClassifier.exception import customexception"
   ]
  },
  {
   "cell_type": "code",
   "execution_count": 7,
   "id": "3113e37d",
   "metadata": {},
   "outputs": [],
   "source": [
    "from src.cnnClassifier.constants.cont import CONFIG_FILE_PATH,PARAMS_FILE_PATH"
   ]
  },
  {
   "cell_type": "code",
   "execution_count": 8,
   "id": "bb2f1409",
   "metadata": {},
   "outputs": [],
   "source": [
    "import yaml\n",
    "from box import ConfigBox"
   ]
  },
  {
   "cell_type": "code",
   "execution_count": 9,
   "id": "e513a339",
   "metadata": {},
   "outputs": [],
   "source": [
    "from dataclasses import dataclass\n",
    "from pathlib import Path\n",
    "\n",
    "\n",
    "@dataclass(frozen=True)\n",
    "class ModelTraining:\n",
    "    root_dir: Path\n",
    "    trained_model_path: Path\n",
    "    updated_base_model_path: Path\n",
    "    EPOCHS: int\n",
    "    LEARNING_RATE: float\n",
    "    class_mode: str\n",
    "    color_mode: str\n",
    "    BATCH_SIZE: int"
   ]
  },
  {
   "cell_type": "code",
   "execution_count": 10,
   "id": "3f98dd8d",
   "metadata": {},
   "outputs": [],
   "source": [
    "import sys"
   ]
  },
  {
   "cell_type": "code",
   "execution_count": 11,
   "id": "7a235672",
   "metadata": {},
   "outputs": [],
   "source": [
    "class ConfigManager:\n",
    "    def __init__(self,paramspath=PARAMS_FILE_PATH,configpath=CONFIG_FILE_PATH):\n",
    "        try:\n",
    "         self.config=ConfigBox(yaml.safe_load(open(configpath)))\n",
    "         self.params=ConfigBox(yaml.safe_load(open(paramspath)))\n",
    "         os.makedirs(self.config.training.root_dir,exist_ok=True)\n",
    "         logging.info(f\"{self.config.training.root_dir} has been created\")\n",
    "        except Exception as e:\n",
    "         logging.info(\"dir is not created\")\n",
    "         raise customexception(e,sys)\n",
    "    def get_model_Training_config(self):\n",
    "        param_config=self.params\n",
    "        config=self.config.prepare_base_model\n",
    "        train=self.config.training\n",
    "        model_training_config=ModelTraining(root_dir=train.root_dir,\n",
    "            trained_model_path=train.trained_model_path,\n",
    "            updated_base_model_path=config.updated_base_model_path,\n",
    "            EPOCHS=param_config.EPOCHS,\n",
    "            LEARNING_RATE=param_config.LEARNING_RATE,\n",
    "            BATCH_SIZE=param_config.BATCH_SIZE,\n",
    "            class_mode=param_config.class_mode,\n",
    "            color_mode=param_config.color_mode)\n",
    "        return model_training_config"
   ]
  },
  {
   "cell_type": "code",
   "execution_count": 12,
   "id": "fa9e284f",
   "metadata": {},
   "outputs": [],
   "source": [
    "n=ConfigManager()"
   ]
  },
  {
   "cell_type": "code",
   "execution_count": 13,
   "id": "efcd72d5",
   "metadata": {},
   "outputs": [],
   "source": [
    "nn=n.get_model_Training_config()"
   ]
  },
  {
   "cell_type": "code",
   "execution_count": 14,
   "id": "0feb4ff7",
   "metadata": {},
   "outputs": [
    {
     "data": {
      "text/plain": [
       "ModelTraining(root_dir='artifacts/training', trained_model_path='artifacts/training/model.h5', updated_base_model_path='artifacts/prepare_base_model/base_model_updated.h5', EPOCHS=10000, LEARNING_RATE=0.001, class_mode='categorical', color_mode='rgb', BATCH_SIZE=16)"
      ]
     },
     "execution_count": 14,
     "metadata": {},
     "output_type": "execute_result"
    }
   ],
   "source": [
    "nn"
   ]
  },
  {
   "cell_type": "code",
   "execution_count": 15,
   "id": "37a28df0",
   "metadata": {},
   "outputs": [],
   "source": [
    "import tensorflow as tf\n",
    "from tensorflow import keras\n",
    "from tensorflow.keras.preprocessing.image import ImageDataGenerator\n",
    "from tensorflow.keras.models import load_model\n",
    "from tensorflow.keras.optimizers import Adam,RMSprop\n",
    "from tensorflow.keras.metrics import Precision, Recall\n",
    "from keras.callbacks import EarlyStopping"
   ]
  },
  {
   "cell_type": "code",
   "execution_count": null,
   "id": "5448e4d3",
   "metadata": {},
   "outputs": [],
   "source": [
    "class getfinal__model():\n",
    "  def start_traing(self,p:ModelTraining):\n",
    "    self.model_path=(p.trained_model_path)\n",
    "    self.EPOCHS=p.EPOCHS\n",
    "    self.LEARNING_RATE=p.LEARNING_RATE\n",
    "    self.class_mode=p.class_mode\n",
    "    self.color_mode=p.color_mode\n",
    "    self.BATCH_SIZE=p.BATCH_SIZE\n",
    "    self.updated_base_model_path=p.updated_base_model_path\n",
    "    train_datagen=ImageDataGenerator(rotation_range=30,  #create data augumentation\n",
    "    width_shift_range=0.2,\n",
    "    height_shift_range=0.2,\n",
    "    brightness_range=[.1,1],\n",
    "    shear_range=0.2,\n",
    "    zoom_range=0.1,\n",
    "    horizontal_flip=True,\n",
    "    fill_mode='nearest',\n",
    "    vertical_flip=True,\n",
    "    rescale=1/255)\n",
    "    test_datagen=ImageDataGenerator(rescale=1/255) #normalize\n",
    "    valid_datagen=ImageDataGenerator(rescale=1/255) #normalize\n",
    "    train_data_path = Path(\"artifacts\") / \"data_ingestion\" / \"Data\" / \"train\"\n",
    "    test_data_path = Path(\"artifacts\") / \"data_ingestion\" / \"Data\" / \"test\"\n",
    "    valid_data_path = Path(\"artifacts\") / \"data_ingestion\" / \"Data\" / \"valid\"\n",
    "    train_data = train_datagen.flow_from_directory(train_data_path,\n",
    "    target_size=(224,224),\n",
    "    color_mode=self.color_mode,\n",
    "    class_mode=self.class_mode,  #train data generator\n",
    "    batch_size=self.BATCH_SIZE,\n",
    "    shuffle=True)\n",
    "    self.test_data = test_datagen.flow_from_directory(test_data_path,\n",
    "    target_size=(224,224),\n",
    "    color_mode=self.color_mode,\n",
    "    class_mode=self.class_mode,  #train data generator\n",
    "    batch_size=self.BATCH_SIZE,\n",
    "    shuffle=True)\n",
    "    val_data = valid_datagen.flow_from_directory(valid_data_path,\n",
    "    target_size=(224,224),\n",
    "    color_mode=self.color_mode,\n",
    "    class_mode=self.class_mode,  #train data generator\n",
    "    batch_size=self.BATCH_SIZE,\n",
    "    shuffle=True)\n",
    "    logging.info(\"data has been ready for traing\")\n",
    "    logging.info(f'{train_data.class_indices}')\n",
    "    logging.info(f'test data{self.test_data.class_indices}')\n",
    "    model=load_model(self.updated_base_model_path)\n",
    "    logging.info(\"model has been loaded\")\n",
    "    optimizer = RMSprop(self.LEARNING_RATE)\n",
    "    model.compile(optimizer=optimizer,loss='categorical_crossentropy',metrics=['accuracy',Precision(), Recall()])\n",
    "    z=EarlyStopping(monitor=\"val_precision_5\",\n",
    "    min_delta=0.0001,\n",
    "    patience=3,\n",
    "    verbose=0,\n",
    "    mode=\"max\",\n",
    "    baseline=None,\n",
    "    restore_best_weights=True,\n",
    "    start_from_epoch=0)\n",
    "    history=model.fit(train_data,epochs=self.EPOCHS,validation_data=val_data,callbacks=z)\n",
    "    return model.save(self.model_path)\n",
    "  def model_eval(self,p:ModelTraining):\n",
    "    model=load_model(self.model_path)\n",
    "    self.eval=model.evaluate(self.test_data)\n",
    "    print(self.eval)"
   ]
  },
  {
   "cell_type": "code",
   "execution_count": null,
   "id": "2df799da",
   "metadata": {},
   "outputs": [],
   "source": [
    "train=getfinal__model()"
   ]
  },
  {
   "cell_type": "code",
   "execution_count": 83,
   "id": "958f43a1",
   "metadata": {},
   "outputs": [
    {
     "name": "stdout",
     "output_type": "stream",
     "text": [
      "Found 613 images belonging to 4 classes.\n"
     ]
    },
    {
     "name": "stdout",
     "output_type": "stream",
     "text": [
      "Found 315 images belonging to 4 classes.\n",
      "Found 72 images belonging to 4 classes.\n",
      "Epoch 1/10000\n",
      "\u001b[1m39/39\u001b[0m \u001b[32m━━━━━━━━━━━━━━━━━━━━\u001b[0m\u001b[37m\u001b[0m \u001b[1m35s\u001b[0m 770ms/step - accuracy: 0.3215 - loss: 1.5222 - precision_5: 0.3521 - recall_5: 0.1368 - val_accuracy: 0.3889 - val_loss: 1.3091 - val_precision_5: 0.0000e+00 - val_recall_5: 0.0000e+00\n",
      "Epoch 2/10000\n",
      "\u001b[1m39/39\u001b[0m \u001b[32m━━━━━━━━━━━━━━━━━━━━\u001b[0m\u001b[37m\u001b[0m \u001b[1m28s\u001b[0m 704ms/step - accuracy: 0.4196 - loss: 1.2913 - precision_5: 0.5805 - recall_5: 0.1751 - val_accuracy: 0.3611 - val_loss: 1.6318 - val_precision_5: 0.9167 - val_recall_5: 0.1528\n",
      "Epoch 3/10000\n",
      "\u001b[1m39/39\u001b[0m \u001b[32m━━━━━━━━━━━━━━━━━━━━\u001b[0m\u001b[37m\u001b[0m \u001b[1m27s\u001b[0m 697ms/step - accuracy: 0.4033 - loss: 1.3063 - precision_5: 0.4914 - recall_5: 0.1301 - val_accuracy: 0.3889 - val_loss: 1.3235 - val_precision_5: 1.0000 - val_recall_5: 0.1389\n",
      "Epoch 4/10000\n",
      "\u001b[1m39/39\u001b[0m \u001b[32m━━━━━━━━━━━━━━━━━━━━\u001b[0m\u001b[37m\u001b[0m \u001b[1m27s\u001b[0m 695ms/step - accuracy: 0.4493 - loss: 1.2544 - precision_5: 0.6459 - recall_5: 0.1659 - val_accuracy: 0.2917 - val_loss: 1.3290 - val_precision_5: 0.7647 - val_recall_5: 0.1806\n",
      "Epoch 5/10000\n",
      "\u001b[1m39/39\u001b[0m \u001b[32m━━━━━━━━━━━━━━━━━━━━\u001b[0m\u001b[37m\u001b[0m \u001b[1m27s\u001b[0m 705ms/step - accuracy: 0.3717 - loss: 1.2272 - precision_5: 0.5785 - recall_5: 0.1746 - val_accuracy: 0.4028 - val_loss: 1.2037 - val_precision_5: 1.0000 - val_recall_5: 0.1806\n",
      "Epoch 6/10000\n",
      "\u001b[1m39/39\u001b[0m \u001b[32m━━━━━━━━━━━━━━━━━━━━\u001b[0m\u001b[37m\u001b[0m \u001b[1m27s\u001b[0m 694ms/step - accuracy: 0.3992 - loss: 1.2928 - precision_5: 0.6050 - recall_5: 0.1495 - val_accuracy: 0.1806 - val_loss: 1.5266 - val_precision_5: 0.3514 - val_recall_5: 0.1806\n"
     ]
    }
   ],
   "source": [
    "train.start_traing(nn)"
   ]
  },
  {
   "cell_type": "code",
   "execution_count": 84,
   "id": "6d8adfbb",
   "metadata": {},
   "outputs": [
    {
     "name": "stdout",
     "output_type": "stream",
     "text": [
      "\u001b[1m20/20\u001b[0m \u001b[32m━━━━━━━━━━━━━━━━━━━━\u001b[0m\u001b[37m\u001b[0m \u001b[1m15s\u001b[0m 610ms/step - accuracy: 0.4568 - loss: 1.2446 - precision_5: 1.0000 - recall_5: 0.1977\n",
      "[1.2807774543762207, 0.4253968298435211, 1.0, 0.17142857611179352]\n"
     ]
    }
   ],
   "source": [
    "train.model_eval(nn)"
   ]
  },
  {
   "cell_type": "code",
   "execution_count": null,
   "id": "0386288b",
   "metadata": {},
   "outputs": [],
   "source": []
  },
  {
   "cell_type": "code",
   "execution_count": null,
   "id": "3911101f",
   "metadata": {},
   "outputs": [],
   "source": []
  },
  {
   "cell_type": "code",
   "execution_count": null,
   "id": "dbdd9a1d",
   "metadata": {},
   "outputs": [],
   "source": []
  },
  {
   "cell_type": "code",
   "execution_count": null,
   "id": "2ef66d9c",
   "metadata": {},
   "outputs": [],
   "source": []
  },
  {
   "cell_type": "code",
   "execution_count": null,
   "id": "288e3349",
   "metadata": {},
   "outputs": [],
   "source": []
  },
  {
   "cell_type": "code",
   "execution_count": null,
   "id": "52317992",
   "metadata": {},
   "outputs": [],
   "source": []
  },
  {
   "cell_type": "code",
   "execution_count": null,
   "id": "08c75329",
   "metadata": {},
   "outputs": [],
   "source": []
  }
 ],
 "metadata": {
  "kernelspec": {
   "display_name": "Python 3",
   "language": "python",
   "name": "python3"
  },
  "language_info": {
   "codemirror_mode": {
    "name": "ipython",
    "version": 3
   },
   "file_extension": ".py",
   "mimetype": "text/x-python",
   "name": "python",
   "nbconvert_exporter": "python",
   "pygments_lexer": "ipython3",
   "version": "3.11.11"
  }
 },
 "nbformat": 4,
 "nbformat_minor": 5
}
