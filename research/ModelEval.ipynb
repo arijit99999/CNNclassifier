{
 "cells": [
  {
   "cell_type": "code",
   "execution_count": 1,
   "id": "06af734a",
   "metadata": {},
   "outputs": [],
   "source": [
    "from pathlib import Path\n",
    "import warnings\n",
    "warnings.filterwarnings(\"ignore\", category=UserWarning)\n",
    "import os"
   ]
  },
  {
   "cell_type": "code",
   "execution_count": 2,
   "id": "86513989",
   "metadata": {},
   "outputs": [
    {
     "data": {
      "text/plain": [
       "'c:\\\\Users\\\\deyar\\\\OneDrive\\\\Desktop\\\\cnnClassifier\\\\research'"
      ]
     },
     "execution_count": 2,
     "metadata": {},
     "output_type": "execute_result"
    }
   ],
   "source": [
    "%pwd"
   ]
  },
  {
   "cell_type": "code",
   "execution_count": 3,
   "id": "8255a597",
   "metadata": {},
   "outputs": [],
   "source": [
    "os.chdir('../')"
   ]
  },
  {
   "cell_type": "code",
   "execution_count": 4,
   "id": "cc8ec248",
   "metadata": {},
   "outputs": [
    {
     "data": {
      "text/plain": [
       "'c:\\\\Users\\\\deyar\\\\OneDrive\\\\Desktop\\\\cnnClassifier'"
      ]
     },
     "execution_count": 4,
     "metadata": {},
     "output_type": "execute_result"
    }
   ],
   "source": [
    "%pwd"
   ]
  },
  {
   "cell_type": "code",
   "execution_count": 5,
   "id": "7493c549",
   "metadata": {},
   "outputs": [],
   "source": [
    "from src.cnnClassifier.constants.cont import PARAMS_FILE_PATH,CONFIG_FILE_PATH\n",
    "from src.cnnClassifier.logger import logging\n",
    "from src.cnnClassifier.exception import customexception"
   ]
  },
  {
   "cell_type": "code",
   "execution_count": 6,
   "id": "1814386d",
   "metadata": {},
   "outputs": [],
   "source": [
    "import yaml\n",
    "from box import ConfigBox"
   ]
  },
  {
   "cell_type": "code",
   "execution_count": 7,
   "id": "7ce90778",
   "metadata": {},
   "outputs": [],
   "source": [
    "from dataclasses import dataclass\n",
    "from pathlib import Path\n",
    "\n",
    "\n",
    "@dataclass(frozen=True)\n",
    "class ModelEval:\n",
    "    trained_model_path: Path\n",
    "    EPOCHS: int\n",
    "    LEARNING_RATE: float\n",
    "    class_mode: str\n",
    "    color_mode: str\n",
    "    BATCH_SIZE: int"
   ]
  },
  {
   "cell_type": "code",
   "execution_count": 8,
   "id": "3869e43f",
   "metadata": {},
   "outputs": [],
   "source": [
    "import sys"
   ]
  },
  {
   "cell_type": "code",
   "execution_count": 9,
   "id": "eead60d9",
   "metadata": {},
   "outputs": [],
   "source": [
    "class ConfigManager:\n",
    "    def __init__(self,paramspath=PARAMS_FILE_PATH,configpath=CONFIG_FILE_PATH):\n",
    "        try:\n",
    "         self.config=ConfigBox(yaml.safe_load(open(configpath)))\n",
    "         self.params=ConfigBox(yaml.safe_load(open(paramspath)))\n",
    "         logging.info(\"read yaml for model evaluation and mlflow\")\n",
    "        except Exception as e:\n",
    "         logging.info(\"dir is not created\")\n",
    "         raise customexception(e,sys)\n",
    "    def get_model_eval_config(self):\n",
    "        param_config=self.params\n",
    "        train=self.config.training\n",
    "        model_eval_config=ModelEval(\n",
    "            trained_model_path=train.trained_model_path,\n",
    "            EPOCHS=param_config.EPOCHS,\n",
    "            LEARNING_RATE=param_config.LEARNING_RATE,\n",
    "            BATCH_SIZE=param_config.BATCH_SIZE,\n",
    "            class_mode=param_config.class_mode,\n",
    "            color_mode=param_config.color_mode)\n",
    "        return model_eval_config"
   ]
  },
  {
   "cell_type": "code",
   "execution_count": 10,
   "id": "0ed49702",
   "metadata": {},
   "outputs": [],
   "source": [
    "y=ConfigManager()"
   ]
  },
  {
   "cell_type": "code",
   "execution_count": 11,
   "id": "1d4e63e3",
   "metadata": {},
   "outputs": [],
   "source": [
    "yy=y.get_model_eval_config()"
   ]
  },
  {
   "cell_type": "code",
   "execution_count": 12,
   "id": "94c3ef9b",
   "metadata": {},
   "outputs": [
    {
     "data": {
      "text/plain": [
       "ModelEval(trained_model_path='artifacts/training/model.h5', EPOCHS=10000, LEARNING_RATE=0.001, class_mode='categorical', color_mode='rgb', BATCH_SIZE=16)"
      ]
     },
     "execution_count": 12,
     "metadata": {},
     "output_type": "execute_result"
    }
   ],
   "source": [
    "yy"
   ]
  },
  {
   "cell_type": "code",
   "execution_count": 13,
   "id": "4ca9f9ae",
   "metadata": {},
   "outputs": [],
   "source": [
    "import dagshub\n",
    "import mlflow"
   ]
  },
  {
   "cell_type": "code",
   "execution_count": 14,
   "id": "d8124470",
   "metadata": {},
   "outputs": [],
   "source": [
    "import tensorflow as tf\n",
    "from tensorflow import keras\n",
    "from tensorflow.keras.preprocessing.image import ImageDataGenerator\n",
    "from tensorflow.keras.models import load_model"
   ]
  },
  {
   "cell_type": "code",
   "execution_count": 15,
   "id": "f08fc22b",
   "metadata": {},
   "outputs": [],
   "source": [
    "from tensorflow.keras.metrics import Precision, Recall"
   ]
  },
  {
   "cell_type": "code",
   "execution_count": 16,
   "id": "1362f6d5",
   "metadata": {},
   "outputs": [],
   "source": [
    "from urllib.parse import urlparse"
   ]
  },
  {
   "cell_type": "code",
   "execution_count": null,
   "id": "330b58b4",
   "metadata": {},
   "outputs": [],
   "source": [
    "class getmodel__eval():\n",
    "  def eval_result(self,p:ModelEval):\n",
    "    self.model_path=(p.trained_model_path)\n",
    "    self.EPOCHS=p.EPOCHS\n",
    "    self.LEARNING_RATE=p.LEARNING_RATE\n",
    "    self.class_mode=p.class_mode\n",
    "    self.color_mode=p.color_mode\n",
    "    self.BATCH_SIZE=p.BATCH_SIZE\n",
    "    test_datagen=ImageDataGenerator(rescale=1/255) #normalize\n",
    "    test_data_path = Path(\"artifacts\") / \"data_ingestion\" / \"Data\" / \"test\"\n",
    "    test_data = test_datagen.flow_from_directory(test_data_path,\n",
    "    target_size=(224,224),\n",
    "    color_mode=self.color_mode,\n",
    "    class_mode=self.class_mode,  #train data generator\n",
    "    batch_size=self.BATCH_SIZE)\n",
    "    logging.info(\"data has been ready for model eval\")\n",
    "    model=load_model(self.model_path)\n",
    "    logging.info(\"model has been  loaded for model eval\")\n",
    "    dagshub.auth.add_app_token('33fa4194997984f4200bf5a3b40710970754c0ce')\n",
    "    dagshub.init(repo_owner='arijit99999', repo_name='CNNclassifier', mlflow=True)\n",
    "    logging.info(\"dagshub has been  added\")\n",
    "    mlflow.set_registry_uri(\"https://dagshub.com/arijit99999/CNNclassifier.mlflow\")\n",
    "    tracking_url_type_store = urlparse(mlflow.get_tracking_uri()).scheme\n",
    "    print(tracking_url_type_store)\n",
    "    with mlflow.start_run():\n",
    "     self.eval=model.evaluate(test_data)\n",
    "     mlflow.log_param('EPOCHS',self.EPOCHS)\n",
    "     mlflow.log_param('LEARNING_RATE',self.LEARNING_RATE)\n",
    "     mlflow.log_param('class_mode',self.class_mode)\n",
    "     mlflow.log_param('BATCH_SIZE',self.BATCH_SIZE)\n",
    "     mlflow.log_param('optimizer','RMSprop')\n",
    "     mlflow.log_param('activation','relu')\n",
    "     mlflow.log_metric(\"test_loss\", self.eval[0])\n",
    "     mlflow.log_metric(\"accuracy_score\", self.eval[1])\n",
    "     mlflow.log_metric(\"precision_score\", self.eval[2])\n",
    "     mlflow.log_metric(\"recall_score\", self.eval[3])\n",
    "     if tracking_url_type_store != \"file\":\n",
    "              mlflow.keras.log_model(model, \"model\", registered_model_name=\"resnet50_model\")\n",
    "     else:\n",
    "              mlflow.keras.log_model(model,\"CNNmodel\")\n",
    "    mlflow.end_run()"
   ]
  },
  {
   "cell_type": "code",
   "execution_count": 27,
   "id": "e5b00a74",
   "metadata": {},
   "outputs": [],
   "source": [
    "evl=getmodel__eval()"
   ]
  },
  {
   "cell_type": "code",
   "execution_count": 28,
   "id": "c047168f",
   "metadata": {},
   "outputs": [
    {
     "name": "stdout",
     "output_type": "stream",
     "text": [
      "Found 315 images belonging to 4 classes.\n"
     ]
    },
    {
     "data": {
      "text/html": [
       "<pre style=\"white-space:pre;overflow-x:auto;line-height:normal;font-family:Menlo,'DejaVu Sans Mono',consolas,'Courier New',monospace\">Initialized MLflow to track repo <span style=\"color: #008000; text-decoration-color: #008000\">\"arijit99999/CNNclassifier\"</span>\n",
       "</pre>\n"
      ],
      "text/plain": [
       "Initialized MLflow to track repo \u001b[32m\"arijit99999/CNNclassifier\"\u001b[0m\n"
      ]
     },
     "metadata": {},
     "output_type": "display_data"
    },
    {
     "data": {
      "text/html": [
       "<pre style=\"white-space:pre;overflow-x:auto;line-height:normal;font-family:Menlo,'DejaVu Sans Mono',consolas,'Courier New',monospace\">Repository arijit99999/CNNclassifier initialized!\n",
       "</pre>\n"
      ],
      "text/plain": [
       "Repository arijit99999/CNNclassifier initialized!\n"
      ]
     },
     "metadata": {},
     "output_type": "display_data"
    },
    {
     "name": "stdout",
     "output_type": "stream",
     "text": [
      "https\n",
      "\u001b[1m20/20\u001b[0m \u001b[32m━━━━━━━━━━━━━━━━━━━━\u001b[0m\u001b[37m\u001b[0m \u001b[1m14s\u001b[0m 581ms/step - accuracy: 0.4599 - loss: 1.4918 - precision: 0.8161 - recall: 0.2015\n"
     ]
    },
    {
     "name": "stderr",
     "output_type": "stream",
     "text": [
      "2025/05/10 08:27:15 WARNING mlflow.keras.save: You are saving a Keras model without specifying model signature.\n",
      "2025/05/10 08:27:26 WARNING mlflow.models.model: Model logged without a signature and input example. Please set `input_example` parameter when logging the model to auto infer the model signature.\n",
      "Successfully registered model 'resnet50_model'.\n",
      "2025/05/10 08:28:43 INFO mlflow.store.model_registry.abstract_store: Waiting up to 300 seconds for model version to finish creation. Model name: resnet50_model, version 1\n",
      "Created version '1' of model 'resnet50_model'.\n"
     ]
    },
    {
     "name": "stdout",
     "output_type": "stream",
     "text": [
      "🏃 View run carefree-shrew-760 at: https://dagshub.com/arijit99999/CNNclassifier.mlflow/#/experiments/0/runs/5776b58482ea4366a9ead6fedee004df\n",
      "🧪 View experiment at: https://dagshub.com/arijit99999/CNNclassifier.mlflow/#/experiments/0\n"
     ]
    }
   ],
   "source": [
    "evl.eval_result(yy)"
   ]
  }
 ],
 "metadata": {
  "kernelspec": {
   "display_name": "Python 3",
   "language": "python",
   "name": "python3"
  },
  "language_info": {
   "codemirror_mode": {
    "name": "ipython",
    "version": 3
   },
   "file_extension": ".py",
   "mimetype": "text/x-python",
   "name": "python",
   "nbconvert_exporter": "python",
   "pygments_lexer": "ipython3",
   "version": "3.11.11"
  }
 },
 "nbformat": 4,
 "nbformat_minor": 5
}
